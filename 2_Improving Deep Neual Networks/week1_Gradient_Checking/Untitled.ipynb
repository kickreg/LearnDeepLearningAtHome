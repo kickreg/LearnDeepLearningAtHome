{
 "cells": [
  {
   "cell_type": "code",
   "execution_count": 1,
   "metadata": {},
   "outputs": [
    {
     "name": "stdout",
     "output_type": "stream",
     "text": [
      "aa\n",
      "['aa']\n",
      "bb\n",
      "['bb']\n",
      "cc\n",
      "['cc']\n",
      "dd\n",
      "['dd']\n"
     ]
    }
   ],
   "source": [
    "import numpy as np\n",
    "\n",
    "for key in [\"aa\",\"bb\",\"cc\",\"dd\"]:\n",
    "    print(key)\n",
    "    print([key])\n"
   ]
  },
  {
   "cell_type": "code",
   "execution_count": null,
   "metadata": {
    "collapsed": true
   },
   "outputs": [],
   "source": []
  }
 ],
 "metadata": {
  "kernelspec": {
   "display_name": "Python 3",
   "language": "python",
   "name": "python3"
  },
  "language_info": {
   "codemirror_mode": {
    "name": "ipython",
    "version": 3
   },
   "file_extension": ".py",
   "mimetype": "text/x-python",
   "name": "python",
   "nbconvert_exporter": "python",
   "pygments_lexer": "ipython3",
   "version": "3.6.1"
  }
 },
 "nbformat": 4,
 "nbformat_minor": 2
}
